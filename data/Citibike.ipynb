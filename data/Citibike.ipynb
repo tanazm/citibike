{
  "nbformat": 4,
  "nbformat_minor": 0,
  "metadata": {
    "colab": {
      "name": "Citibike",
      "provenance": []
    },
    "kernelspec": {
      "name": "python3",
      "display_name": "Python 3"
    },
    "language_info": {
      "name": "python"
    }
  },
  "cells": [
    {
      "cell_type": "markdown",
      "source": [
        "Loading and cleaning data"
      ],
      "metadata": {
        "id": "caiC0oNszL1M"
      }
    },
    {
      "cell_type": "code",
      "execution_count": 76,
      "metadata": {
        "id": "vjC-FjbOK_C7"
      },
      "outputs": [],
      "source": [
        "import pandas as pd\n",
        "import numpy as np\n",
        "import altair as alt\n",
        "\n",
        "from zipfile import ZipFile\n",
        "import requests\n",
        "import io"
      ]
    },
    {
      "cell_type": "code",
      "source": [
        "!pip install geopandas\n",
        "import geopandas as gpd"
      ],
      "metadata": {
        "colab": {
          "base_uri": "https://localhost:8080/"
        },
        "id": "uMEicgafLDGc",
        "outputId": "e64cef87-f49c-4eb6-fa6a-85b6a5326fbc"
      },
      "execution_count": 77,
      "outputs": [
        {
          "output_type": "stream",
          "name": "stdout",
          "text": [
            "Looking in indexes: https://pypi.org/simple, https://us-python.pkg.dev/colab-wheels/public/simple/\n",
            "Requirement already satisfied: geopandas in /usr/local/lib/python3.7/dist-packages (0.10.2)\n",
            "Requirement already satisfied: shapely>=1.6 in /usr/local/lib/python3.7/dist-packages (from geopandas) (1.8.2)\n",
            "Requirement already satisfied: pandas>=0.25.0 in /usr/local/lib/python3.7/dist-packages (from geopandas) (1.3.5)\n",
            "Requirement already satisfied: fiona>=1.8 in /usr/local/lib/python3.7/dist-packages (from geopandas) (1.8.21)\n",
            "Requirement already satisfied: pyproj>=2.2.0 in /usr/local/lib/python3.7/dist-packages (from geopandas) (3.2.1)\n",
            "Requirement already satisfied: attrs>=17 in /usr/local/lib/python3.7/dist-packages (from fiona>=1.8->geopandas) (21.4.0)\n",
            "Requirement already satisfied: cligj>=0.5 in /usr/local/lib/python3.7/dist-packages (from fiona>=1.8->geopandas) (0.7.2)\n",
            "Requirement already satisfied: click-plugins>=1.0 in /usr/local/lib/python3.7/dist-packages (from fiona>=1.8->geopandas) (1.1.1)\n",
            "Requirement already satisfied: certifi in /usr/local/lib/python3.7/dist-packages (from fiona>=1.8->geopandas) (2022.5.18.1)\n",
            "Requirement already satisfied: click>=4.0 in /usr/local/lib/python3.7/dist-packages (from fiona>=1.8->geopandas) (7.1.2)\n",
            "Requirement already satisfied: munch in /usr/local/lib/python3.7/dist-packages (from fiona>=1.8->geopandas) (2.5.0)\n",
            "Requirement already satisfied: setuptools in /usr/local/lib/python3.7/dist-packages (from fiona>=1.8->geopandas) (57.4.0)\n",
            "Requirement already satisfied: six>=1.7 in /usr/local/lib/python3.7/dist-packages (from fiona>=1.8->geopandas) (1.15.0)\n",
            "Requirement already satisfied: pytz>=2017.3 in /usr/local/lib/python3.7/dist-packages (from pandas>=0.25.0->geopandas) (2022.1)\n",
            "Requirement already satisfied: numpy>=1.17.3 in /usr/local/lib/python3.7/dist-packages (from pandas>=0.25.0->geopandas) (1.21.6)\n",
            "Requirement already satisfied: python-dateutil>=2.7.3 in /usr/local/lib/python3.7/dist-packages (from pandas>=0.25.0->geopandas) (2.8.2)\n"
          ]
        }
      ]
    },
    {
      "cell_type": "code",
      "source": [
        "sept20 = pd.read_csv('https://s3.amazonaws.com/tripdata/202009-citibike-tripdata.csv.zip')"
      ],
      "metadata": {
        "id": "vt3eCb-Bwyw8"
      },
      "execution_count": 78,
      "outputs": []
    },
    {
      "cell_type": "code",
      "source": [
        "sept20.columns = sept20.columns.str.replace(' ', '_')"
      ],
      "metadata": {
        "id": "W_de6Mcmxvta"
      },
      "execution_count": 79,
      "outputs": []
    },
    {
      "cell_type": "code",
      "source": [
        "# Here we are getting the zip file\n",
        "citibikeZipFile = requests.get('https://s3.amazonaws.com/tripdata/202109-citibike-tripdata.csv.zip')\n",
        "\n",
        "# Here we are uncompressing it and reading the whole package into a variable\n",
        "zipFiles = ZipFile(io.BytesIO(citibikeZipFile.content))\n",
        "\n",
        "# And here we are looping through the package and printing the names of the files\n",
        "for name in zipFiles.namelist():\n",
        "  print(name)\n",
        "\n",
        "# Finally, we can take that loaded uncopressed package and use it to just load one file to the Pandas dataframe:\n",
        "sept21 = pd.read_csv(zipFiles.open('202109-citibike-tripdata.csv'))"
      ],
      "metadata": {
        "colab": {
          "base_uri": "https://localhost:8080/"
        },
        "id": "22dtLoy4yIc_",
        "outputId": "8f1e50fe-a596-40d4-d40c-458827cedef5"
      },
      "execution_count": 80,
      "outputs": [
        {
          "output_type": "stream",
          "name": "stdout",
          "text": [
            "202109-citibike-tripdata.csv\n",
            "__MACOSX/._202109-citibike-tripdata.csv\n"
          ]
        },
        {
          "output_type": "stream",
          "name": "stderr",
          "text": [
            "/usr/local/lib/python3.7/dist-packages/IPython/core/interactiveshell.py:2882: DtypeWarning: Columns (7) have mixed types.Specify dtype option on import or set low_memory=False.\n",
            "  exec(code_obj, self.user_global_ns, self.user_ns)\n"
          ]
        }
      ]
    },
    {
      "cell_type": "markdown",
      "source": [
        "September 2020 Analysis"
      ],
      "metadata": {
        "id": "99ALtH0gzQRD"
      }
    },
    {
      "cell_type": "code",
      "source": [
        "# Total number of trips\n",
        "len(sept20)"
      ],
      "metadata": {
        "colab": {
          "base_uri": "https://localhost:8080/"
        },
        "id": "i08rtQ-xzS2I",
        "outputId": "a8898305-8400-4a2a-d4aa-52151c44f43e"
      },
      "execution_count": 81,
      "outputs": [
        {
          "output_type": "execute_result",
          "data": {
            "text/plain": [
              "2488225"
            ]
          },
          "metadata": {},
          "execution_count": 81
        }
      ]
    },
    {
      "cell_type": "code",
      "source": [
        "# Top 5 stations by number of trip starts\n",
        "sept20.start_station_name.value_counts().head(5)"
      ],
      "metadata": {
        "colab": {
          "base_uri": "https://localhost:8080/"
        },
        "id": "ZoUQKpAj115q",
        "outputId": "a38a6e60-78a7-4d18-d6ae-e20bba956408"
      },
      "execution_count": 82,
      "outputs": [
        {
          "output_type": "execute_result",
          "data": {
            "text/plain": [
              "W 21 St & 6 Ave          13875\n",
              "West St & Chambers St    13225\n",
              "12 Ave & W 40 St         12869\n",
              "1 Ave & E 68 St          12816\n",
              "E 17 St & Broadway       11264\n",
              "Name: start_station_name, dtype: int64"
            ]
          },
          "metadata": {},
          "execution_count": 82
        }
      ]
    },
    {
      "cell_type": "code",
      "source": [
        "# Top 5 stations by number of trip stops\n",
        "sept20.end_station_name.value_counts().head(5)"
      ],
      "metadata": {
        "colab": {
          "base_uri": "https://localhost:8080/"
        },
        "id": "M8AzX8kP2Ecn",
        "outputId": "48b2c125-530e-4b37-dec0-5d2f5b1710d4"
      },
      "execution_count": 83,
      "outputs": [
        {
          "output_type": "execute_result",
          "data": {
            "text/plain": [
              "W 21 St & 6 Ave          13967\n",
              "West St & Chambers St    13783\n",
              "12 Ave & W 40 St         12922\n",
              "1 Ave & E 68 St          12689\n",
              "E 17 St & Broadway       11446\n",
              "Name: end_station_name, dtype: int64"
            ]
          },
          "metadata": {},
          "execution_count": 83
        }
      ]
    },
    {
      "cell_type": "code",
      "source": [
        "# Median number of starts\n",
        "sept20.start_station_name.value_counts().median()"
      ],
      "metadata": {
        "colab": {
          "base_uri": "https://localhost:8080/"
        },
        "id": "ieJWw-Hn2XPL",
        "outputId": "073622d6-6647-4b17-b9fa-8e795ca79275"
      },
      "execution_count": 84,
      "outputs": [
        {
          "output_type": "execute_result",
          "data": {
            "text/plain": [
              "1457.0"
            ]
          },
          "metadata": {},
          "execution_count": 84
        }
      ]
    },
    {
      "cell_type": "code",
      "source": [
        "# Median number of stops\n",
        "sept20.end_station_name.value_counts().median()"
      ],
      "metadata": {
        "colab": {
          "base_uri": "https://localhost:8080/"
        },
        "id": "7eb_YLdt2oeK",
        "outputId": "20485d2d-7942-487d-bcd3-9661d2ff24ee"
      },
      "execution_count": 85,
      "outputs": [
        {
          "output_type": "execute_result",
          "data": {
            "text/plain": [
              "1434.5"
            ]
          },
          "metadata": {},
          "execution_count": 85
        }
      ]
    },
    {
      "cell_type": "markdown",
      "source": [
        "September 2021 Analysis"
      ],
      "metadata": {
        "id": "9VGYhoQ7zthQ"
      }
    },
    {
      "cell_type": "code",
      "source": [
        "# Total number of trips\n",
        "len(sept21)"
      ],
      "metadata": {
        "colab": {
          "base_uri": "https://localhost:8080/"
        },
        "id": "91VrhORz2x2p",
        "outputId": "94cdfd4c-828e-4ee6-c396-c1fc57f6a586"
      },
      "execution_count": 86,
      "outputs": [
        {
          "output_type": "execute_result",
          "data": {
            "text/plain": [
              "3280560"
            ]
          },
          "metadata": {},
          "execution_count": 86
        }
      ]
    },
    {
      "cell_type": "code",
      "source": [
        "# Top 5 stations by number of trip starts\n",
        "sept21.start_station_name.value_counts().head(5)"
      ],
      "metadata": {
        "colab": {
          "base_uri": "https://localhost:8080/"
        },
        "id": "vpLT-1LPzyAr",
        "outputId": "a3bdee37-9979-4227-d62e-35387030558e"
      },
      "execution_count": 87,
      "outputs": [
        {
          "output_type": "execute_result",
          "data": {
            "text/plain": [
              "W 21 St & 6 Ave             14435\n",
              "E 17 St & Broadway          14065\n",
              "Broadway & E 14 St          13155\n",
              "Cleveland Pl & Spring St    12987\n",
              "W 20 St & 10 Ave            12918\n",
              "Name: start_station_name, dtype: int64"
            ]
          },
          "metadata": {},
          "execution_count": 87
        }
      ]
    },
    {
      "cell_type": "code",
      "source": [
        "# Top 5 stations by number of trip stops\n",
        "sept21.end_station_name.value_counts().head(5)"
      ],
      "metadata": {
        "colab": {
          "base_uri": "https://localhost:8080/"
        },
        "id": "aqgbRtZ21E5T",
        "outputId": "407e9d14-6bc3-4ae9-ce53-a5e7ef0e5eee"
      },
      "execution_count": 88,
      "outputs": [
        {
          "output_type": "execute_result",
          "data": {
            "text/plain": [
              "W 21 St & 6 Ave             14420\n",
              "E 17 St & Broadway          14092\n",
              "Cleveland Pl & Spring St    13114\n",
              "Broadway & E 14 St          12918\n",
              "W 20 St & 10 Ave            12912\n",
              "Name: end_station_name, dtype: int64"
            ]
          },
          "metadata": {},
          "execution_count": 88
        }
      ]
    },
    {
      "cell_type": "code",
      "source": [
        "# Median number of starts\n",
        "sept21.start_station_name.value_counts().median()"
      ],
      "metadata": {
        "colab": {
          "base_uri": "https://localhost:8080/"
        },
        "id": "kN1Ms3y81Lnr",
        "outputId": "31906004-7a52-4f39-8ef3-c809a8210891"
      },
      "execution_count": 89,
      "outputs": [
        {
          "output_type": "execute_result",
          "data": {
            "text/plain": [
              "1133.5"
            ]
          },
          "metadata": {},
          "execution_count": 89
        }
      ]
    },
    {
      "cell_type": "code",
      "source": [
        "# Median number of stops\n",
        "sept21.end_station_name.value_counts().median()"
      ],
      "metadata": {
        "colab": {
          "base_uri": "https://localhost:8080/"
        },
        "id": "O9RRjSyI1T7K",
        "outputId": "69cb81ba-4f49-4532-efef-771fe3d7e99e"
      },
      "execution_count": 90,
      "outputs": [
        {
          "output_type": "execute_result",
          "data": {
            "text/plain": [
              "1078.0"
            ]
          },
          "metadata": {},
          "execution_count": 90
        }
      ]
    },
    {
      "cell_type": "markdown",
      "source": [
        "Mapping"
      ],
      "metadata": {
        "id": "-4GZp7fc2YvG"
      }
    },
    {
      "cell_type": "code",
      "source": [
        "ntaData = gpd.read_file('https://services5.arcgis.com/GfwWNkhOj9bNBqoJ/arcgis/rest/services/NYC_Neighborhood_Tabulation_Areas_2020/FeatureServer/0/query?where=1=1&outFields=*&outSR=4326&f=pgeojson')\n"
      ],
      "metadata": {
        "id": "w32T9r2TWE4_"
      },
      "execution_count": 91,
      "outputs": []
    },
    {
      "cell_type": "code",
      "source": [
        "ntaData.to_file('ntaData.geojson', driver='GeoJSON')"
      ],
      "metadata": {
        "id": "Q_3AyNqwWGOI"
      },
      "execution_count": 92,
      "outputs": []
    },
    {
      "cell_type": "markdown",
      "source": [
        ""
      ],
      "metadata": {
        "id": "ybBuj5cHWIJT"
      }
    },
    {
      "cell_type": "markdown",
      "source": [
        "September 2020"
      ],
      "metadata": {
        "id": "bWOG0Kj_3CHC"
      }
    },
    {
      "cell_type": "code",
      "source": [
        "sept20['trip_count'] = 1\n",
        "\n",
        "#starts\n",
        "sept20_starts = sept20.groupby(['start_station_name']).agg({'start_station_latitude':'min','start_station_longitude':'min', 'trip_count':'count'}).reset_index()\n",
        "\n",
        "#stops\n",
        "sept20_ends = sept20.groupby(['end_station_name']).agg({'end_station_latitude':'min','end_station_longitude':'min','trip_count':'count'}).reset_index()"
      ],
      "metadata": {
        "id": "EToCckQ_2b6_"
      },
      "execution_count": 93,
      "outputs": []
    },
    {
      "cell_type": "markdown",
      "source": [
        "September 2021"
      ],
      "metadata": {
        "id": "Z2HcWZWL3U_m"
      }
    },
    {
      "cell_type": "code",
      "source": [
        "sept21['trip_count'] = 1\n",
        "\n",
        "# starts\n",
        "sept21_starts = sept21.groupby(['start_station_name']).agg({'start_lat':'min','start_lng':'min', 'trip_count':'count'}).reset_index()\n",
        "\n",
        "# ends\n",
        "sept21_ends = sept21.groupby(['end_station_name']).agg({'end_lat':'min','end_lng':'min','trip_count':'count'}).reset_index()"
      ],
      "metadata": {
        "id": "SekmkLuc3Pv6"
      },
      "execution_count": 94,
      "outputs": []
    },
    {
      "cell_type": "code",
      "source": [
        "geo_sept20_starts = gpd.GeoDataFrame(data=sept20_starts, geometry=gpd.points_from_xy(x=sept20_starts['start_station_longitude'], y=sept20_starts['start_station_latitude']), crs='epsg:4326')"
      ],
      "metadata": {
        "id": "NzP3jY-q3yj0"
      },
      "execution_count": 95,
      "outputs": []
    },
    {
      "cell_type": "code",
      "source": [
        "geo_sept20_ends = gpd.GeoDataFrame(data=sept20_ends, geometry=gpd.points_from_xy(x=sept20_ends['end_station_longitude'], y=sept20_ends['end_station_latitude']), crs='epsg:4326')"
      ],
      "metadata": {
        "id": "OMFBcHhM3nlW"
      },
      "execution_count": 96,
      "outputs": []
    },
    {
      "cell_type": "code",
      "source": [
        "geo_sept21_starts = gpd.GeoDataFrame(data=sept21_starts, geometry=gpd.points_from_xy(x=sept21_starts['start_lng'], y=sept21_starts['start_lat']), crs='epsg:4326')"
      ],
      "metadata": {
        "id": "Yu71BI7_IFDL"
      },
      "execution_count": 97,
      "outputs": []
    },
    {
      "cell_type": "code",
      "source": [
        "geo_sept21_ends = gpd.GeoDataFrame(data=sept21_ends, geometry=gpd.points_from_xy(x=sept21_ends['end_lng'], y=sept21_ends['end_lat']), crs='epsg:4326')"
      ],
      "metadata": {
        "id": "5-EOlax3INkS"
      },
      "execution_count": 98,
      "outputs": []
    },
    {
      "cell_type": "code",
      "source": [
        "geo_sept20_starts.to_file('geo_sept20_starts.geojson', driver='GeoJSON')"
      ],
      "metadata": {
        "id": "jG-Mm9rmLtpl"
      },
      "execution_count": 99,
      "outputs": []
    },
    {
      "cell_type": "code",
      "source": [
        "geo_sept20_ends.to_file('geo_sept20_ends.geojson', driver='GeoJSON')"
      ],
      "metadata": {
        "id": "8mxZrYnMTBnx"
      },
      "execution_count": 100,
      "outputs": []
    },
    {
      "cell_type": "code",
      "source": [
        "geo_sept21_starts.to_file('geo_sept21_starts.geojson', driver='GeoJSON')"
      ],
      "metadata": {
        "id": "yldVoEkoUMnb"
      },
      "execution_count": 101,
      "outputs": []
    },
    {
      "cell_type": "code",
      "source": [
        "geo_sept21_ends.to_file('geo_sept21_ends.geojson', driver='GeoJSON')"
      ],
      "metadata": {
        "id": "y3s4ybTXUOUj"
      },
      "execution_count": 102,
      "outputs": []
    }
  ]
}